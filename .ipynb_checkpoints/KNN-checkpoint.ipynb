{
 "cells": [
  {
   "cell_type": "markdown",
   "id": "ef8296e5",
   "metadata": {},
   "source": [
    "# Implementação do KNN"
   ]
  },
  {
   "cell_type": "code",
   "execution_count": 1,
   "id": "8b68ef24",
   "metadata": {},
   "outputs": [],
   "source": [
    "import math\n",
    "import time\n",
    "from matplotlib import pyplot as plt\n",
    "class KnnClustered:\n",
    "    def __init__(self, graph, k):\n",
    "        self.graph = graph\n",
    "        self.k = k\n",
    "        self.area = 1\n",
    "        self.rounds = 5\n",
    "        if(k >= graph.totalNodes):\n",
    "            self.k = graph.totalNodes-1\n",
    "        \n",
    "    def __increaseArea(self):\n",
    "            self.rounds += 1\n",
    "            self.area = pow(2,self.rounds)\n",
    "            \n",
    "    def __resetArea(self):\n",
    "        self.area = 1\n",
    "    \n",
    "    def __searchSpace(self,x, y):\n",
    "        knn = set()\n",
    "        #Define os limites superiores e inferiores da busca\n",
    "        minX = 0\n",
    "        maxX = self.graph.totalNodes\n",
    "        minY = 0\n",
    "        maxY = self.graph.totalNodes\n",
    "        if (x - self.area) > 0:\n",
    "            minX = x - self.area\n",
    "        if (x + self.area) < maxX:\n",
    "            maxX = x + self.area\n",
    "        if (y - self.area) > 0:\n",
    "            minY = y - self.area\n",
    "        if (y + self.area) < maxY:\n",
    "            maxY = y + self.area\n",
    "        # Adiciona todos os nós da região na lista \"neighbors\"\n",
    "        origin = \",\".join((str(x),str(y)))\n",
    "        for a in range(minX, maxX+1):\n",
    "            for b in range(minY, maxY+1):\n",
    "                nodeKey = \",\".join((str(a),str(b)))\n",
    "                knn.add(nodeKey)\n",
    "        try:\n",
    "            knn.remove(origin)\n",
    "        except KeyError:\n",
    "            pass\n",
    "        return set(knn)\n",
    "    \n",
    "    def __minimumViableSet(self, x, y):\n",
    "        self.__resetArea()\n",
    "        nodes = set(grafo.nodes.keys()).intersection(self.__searchSpace(x, y))\n",
    "        while len(nodes) < self.k:\n",
    "            self.__increaseArea()\n",
    "            nodes = set(grafo.nodes.keys()).intersection(self.__searchSpace(x, y))\n",
    "        return list(nodes)\n",
    "    \n",
    "    def __euclidianDistance(self,x1,y1, x2, y2):\n",
    "        x = abs(x2 - x1)\n",
    "        y = abs(y2 - y1)\n",
    "        return math.sqrt(pow(x,2) + pow(y,2))\n",
    "    \n",
    "    def __kNearestNeighbors(self, x, y):\n",
    "        viableListWithDistance = dict()\n",
    "        viableList = knn.__minimumViableSet(x, y)\n",
    "        while len(viableList) > 0:\n",
    "            nodeKey = viableList.pop()\n",
    "            node = self.graph.nodes[nodeKey]\n",
    "            distance = self.__euclidianDistance(x,y,node.x,node.y)\n",
    "            viableListWithDistance[nodeKey] = distance\n",
    "        return sorted(viableListWithDistance, key=viableListWithDistance.get)[:3]\n",
    "    \n",
    "    def Execute(self):\n",
    "        tic = time.perf_counter()\n",
    "        epoch = 0\n",
    "        for key in self.graph.nodes:\n",
    "            epoch += 1\n",
    "            #print(epoch)\n",
    "            source = self.graph.nodes[key]\n",
    "            knn = self.__kNearestNeighbors(source.x, source.y)\n",
    "            for n in knn:\n",
    "                destination = self.graph.nodes[n]\n",
    "                self.graph.addEdge(source, destination)\n",
    "        toc = time.perf_counter()\n",
    "        #print(f\"Executed in {toc - tic:0.4f} seconds\")\n",
    "        timeval = toc - tic\n",
    "        return timeval\n",
    "    "
   ]
  },
  {
   "cell_type": "markdown",
   "id": "caa928fc",
   "metadata": {},
   "source": [
    "# População do grafo e teste do algoritmo"
   ]
  },
  {
   "cell_type": "code",
   "execution_count": 2,
   "id": "46452e2e",
   "metadata": {},
   "outputs": [],
   "source": [
    "import random\n",
    "from src.classes.graph import Graph\n",
    "from src.classes.node import Node"
   ]
  },
  {
   "cell_type": "code",
   "execution_count": 3,
   "id": "0bfc69c3",
   "metadata": {},
   "outputs": [],
   "source": [
    "def populateGraph(graph,n, seed):\n",
    "    random.seed(seed)\n",
    "    xValues = random.sample(range(0, n+1), n)\n",
    "    yValues = random.sample(range(0, n+1), n)\n",
    "    for i in range(len(xValues)):\n",
    "        nodeKey = \",\".join((str(xValues[i]),str(yValues[i])))\n",
    "        node = Node(nodeKey, xValues[i], yValues[i])\n",
    "        graph.addVertex(node)"
   ]
  },
  {
   "cell_type": "code",
   "execution_count": 12,
   "id": "4b87c351",
   "metadata": {},
   "outputs": [],
   "source": [
    "grafo = Graph(nodeType=Node)\n",
    "populateGraph(grafo, 10, 200)"
   ]
  },
  {
   "cell_type": "code",
   "execution_count": 13,
   "id": "8904d58b",
   "metadata": {},
   "outputs": [],
   "source": [
    "knn = KnnClustered(grafo, 3)"
   ]
  },
  {
   "cell_type": "code",
   "execution_count": 14,
   "id": "49fd5576",
   "metadata": {},
   "outputs": [],
   "source": [
    "tempo = knn.Execute()"
   ]
  },
  {
   "cell_type": "code",
   "execution_count": 8,
   "id": "d6d6cb51",
   "metadata": {},
   "outputs": [],
   "source": [
    "executionTime = []\n",
    "for a in range(100):\n",
    "    grafo = Graph(nodeType=Node)\n",
    "    populateGraph(grafo, a+1, 200)\n",
    "    knn = KnnClustered(grafo, 3)\n",
    "    timeval = knn.Execute()\n",
    "    executionTime.append(timeval)"
   ]
  },
  {
   "cell_type": "code",
   "execution_count": 9,
   "id": "6ed43d38",
   "metadata": {},
   "outputs": [
    {
     "data": {
      "text/plain": [
       "[<matplotlib.lines.Line2D at 0x7f272a94ceb0>]"
      ]
     },
     "execution_count": 9,
     "metadata": {},
     "output_type": "execute_result"
    },
    {
     "data": {
      "image/png": "[encoded data removed]",
      "text/plain": [
       "<Figure size 432x288 with 1 Axes>"
      ]
     },
     "metadata": {
      "needs_background": "light"
     },
     "output_type": "display_data"
    }
   ],
   "source": [
    "plt.plot(executionTime)"
   ]
  },
  {
   "cell_type": "markdown",
   "id": "0e350122",
   "metadata": {},
   "source": [
    "# Alternativa mais viavel do que a anterior"
   ]
  },
  {
   "cell_type": "code",
   "execution_count": 15,
   "id": "49a4eec9",
   "metadata": {},
   "outputs": [],
   "source": [
    "from sklearn.neighbors import kneighbors_graph"
   ]
  },
  {
   "cell_type": "code",
   "execution_count": 16,
   "id": "f2d9c118",
   "metadata": {},
   "outputs": [
    {
     "data": {
      "text/plain": [
       "array([[0., 0., 0., 0., 1., 1., 0., 0., 0., 1.],\n",
       "       [0., 0., 0., 1., 1., 0., 0., 0., 1., 0.],\n",
       "       [0., 0., 0., 0., 0., 1., 1., 0., 0., 1.],\n",
       "       [0., 1., 0., 0., 1., 0., 0., 0., 1., 0.],\n",
       "       [0., 1., 0., 0., 0., 1., 0., 0., 0., 1.],\n",
       "       [0., 0., 0., 0., 1., 0., 1., 0., 0., 1.],\n",
       "       [0., 0., 1., 0., 0., 1., 0., 0., 0., 1.],\n",
       "       [0., 0., 1., 0., 0., 0., 1., 0., 1., 0.],\n",
       "       [0., 1., 0., 1., 0., 0., 1., 0., 0., 0.],\n",
       "       [0., 0., 0., 0., 1., 1., 1., 0., 0., 0.]])"
      ]
     },
     "execution_count": 16,
     "metadata": {},
     "output_type": "execute_result"
    }
   ],
   "source": [
    "import numpy as np\n",
    "n = 10\n",
    "nodes = list()\n",
    "random.seed(200)\n",
    "xValues = random.sample(range(0, n+1), n)\n",
    "yValues = random.sample(range(0, n+1), n)\n",
    "for i in range(len(xValues)):\n",
    "    nodes.append([xValues[i], yValues[i]])\n",
    "X = np.array(nodes)\n",
    "A = kneighbors_graph(X, 3, mode='connectivity')\n",
    "A.toarray()"
   ]
  },
  {
   "cell_type": "code",
   "execution_count": 17,
   "id": "ad8250e5",
   "metadata": {
    "scrolled": true
   },
   "outputs": [
    {
     "data": {
      "text/plain": [
       "[[0, 0],\n",
       " [3, 7],\n",
       " [10, 4],\n",
       " [2, 9],\n",
       " [4, 3],\n",
       " [7, 1],\n",
       " [8, 5],\n",
       " [9, 10],\n",
       " [5, 8],\n",
       " [6, 2]]"
      ]
     },
     "execution_count": 17,
     "metadata": {},
     "output_type": "execute_result"
    }
   ],
   "source": [
    "nodes"
   ]
  },
  {
   "cell_type": "code",
   "execution_count": 7,
   "id": "4b4a2fcc",
   "metadata": {},
   "outputs": [
    {
     "name": "stdout",
     "output_type": "stream",
     "text": [
      "0,0\n",
      "0,0 -> 4,3\n",
      "0,0 -> 6,2\n",
      "0,0 -> 7,1\n",
      "3,7\n",
      "3,7 -> 2,9\n",
      "3,7 -> 5,8\n",
      "3,7 -> 4,3\n",
      "10,4\n",
      "10,4 -> 8,5\n",
      "10,4 -> 7,1\n",
      "10,4 -> 6,2\n",
      "10,4 -> 9,10\n",
      "2,9\n",
      "2,9 -> 3,7\n",
      "2,9 -> 5,8\n",
      "2,9 -> 4,3\n",
      "4,3\n",
      "4,3 -> 0,0\n",
      "4,3 -> 3,7\n",
      "4,3 -> 2,9\n",
      "4,3 -> 6,2\n",
      "4,3 -> 7,1\n",
      "7,1\n",
      "7,1 -> 0,0\n",
      "7,1 -> 10,4\n",
      "7,1 -> 4,3\n",
      "7,1 -> 6,2\n",
      "7,1 -> 8,5\n",
      "8,5\n",
      "8,5 -> 10,4\n",
      "8,5 -> 7,1\n",
      "8,5 -> 6,2\n",
      "8,5 -> 9,10\n",
      "8,5 -> 5,8\n",
      "9,10\n",
      "9,10 -> 5,8\n",
      "9,10 -> 8,5\n",
      "9,10 -> 10,4\n",
      "5,8\n",
      "5,8 -> 3,7\n",
      "5,8 -> 2,9\n",
      "5,8 -> 9,10\n",
      "5,8 -> 8,5\n",
      "6,2\n",
      "6,2 -> 0,0\n",
      "6,2 -> 10,4\n",
      "6,2 -> 4,3\n",
      "6,2 -> 7,1\n",
      "6,2 -> 8,5\n"
     ]
    }
   ],
   "source": [
    "grafo.printGraph()"
   ]
  },
  {
   "cell_type": "code",
   "execution_count": 17,
   "id": "97ba7af1",
   "metadata": {},
   "outputs": [
    {
     "data": {
      "text/plain": [
       "<matplotlib.collections.PathCollection at 0x7f291dbe2d90>"
      ]
     },
     "execution_count": 17,
     "metadata": {},
     "output_type": "execute_result"
    },
    {
     "data": {
      "image/png": "[encoded data removed]",
      "text/plain": [
       "<Figure size 432x288 with 1 Axes>"
      ]
     },
     "metadata": {
      "needs_background": "light"
     },
     "output_type": "display_data"
    }
   ],
   "source": [
    "plt.scatter(xValues, yValues)"
   ]
  },
  {
   "cell_type": "markdown",
   "id": "4dc99d0f",
   "metadata": {},
   "source": [
    "# Implementação do A*"
   ]
  },
  {
   "cell_type": "code",
   "execution_count": 37,
   "id": "864dda11",
   "metadata": {},
   "outputs": [],
   "source": [
    "class NodeProps:\n",
    "    def __init__(self, key):\n",
    "        self.key = key\n",
    "        self.visited = False\n",
    "        self.localCost = -1"
   ]
  },
  {
   "cell_type": "code",
   "execution_count": 40,
   "id": "a4df9266",
   "metadata": {},
   "outputs": [],
   "source": [
    "class AStarSearch:\n",
    "    def __init__(self, graph):\n",
    "        self.nodes = dict()\n",
    "        self.graph = graph\n",
    "        self.stack = list()\n",
    "        for key in graph.nodes:\n",
    "            self.nodes[key] = NodeProps(key)\n",
    "        \n",
    "    def __euclidean(self, dest, origin):\n",
    "        x = abs(dest.x - origin.x)\n",
    "        y = abs(dest.y - origin.y)\n",
    "        return math.sqrt(pow(x,2) + pow(y,2))\n",
    "    \n",
    "    def execute(self, originKey, destKey):\n",
    "        self.__calculateAllDistancesTo(destKey)\n",
    "        node = self.graph.nodes[originKey]\n",
    "        path = __searchPath(node, dest)\n",
    "        return path\n",
    "    \n",
    "    # recursive function\n",
    "    def __searchPath(self, node, dest):\n",
    "        self.nodes[node.key].visited = True\n",
    "        \n",
    "        "
   ]
  },
  {
   "cell_type": "code",
   "execution_count": 17,
   "id": "fc1e9ee9",
   "metadata": {},
   "outputs": [],
   "source": [
    "aStar = AStartSearch(grafo)"
   ]
  },
  {
   "cell_type": "code",
   "execution_count": 18,
   "id": "5de08de0",
   "metadata": {},
   "outputs": [],
   "source": [
    "aStar.calculateAllDistancesTo(\"2,9\")"
   ]
  },
  {
   "cell_type": "code",
   "execution_count": 19,
   "id": "08b7e2ff",
   "metadata": {},
   "outputs": [
    {
     "data": {
      "text/plain": [
       "{'0,0': 9.219544457292887,\n",
       " '3,7': 2.23606797749979,\n",
       " '10,4': 9.433981132056603,\n",
       " '2,9': 0.0,\n",
       " '4,3': 6.324555320336759,\n",
       " '7,1': 9.433981132056603,\n",
       " '8,5': 7.211102550927978,\n",
       " '9,10': 7.0710678118654755,\n",
       " '5,8': 3.1622776601683795,\n",
       " '6,2': 8.06225774829855}"
      ]
     },
     "execution_count": 19,
     "metadata": {},
     "output_type": "execute_result"
    }
   ],
   "source": [
    "aStar.distances"
   ]
  },
  {
   "cell_type": "code",
   "execution_count": 31,
   "id": "2c6aba1e",
   "metadata": {},
   "outputs": [
    {
     "data": {
      "text/plain": [
       "['3,7', '5,8', '4,3']"
      ]
     },
     "execution_count": 31,
     "metadata": {},
     "output_type": "execute_result"
    }
   ],
   "source": [
    "list(grafo.edges[\"2,9\"].keys())"
   ]
  },
  {
   "cell_type": "code",
   "execution_count": 32,
   "id": "83f6c708",
   "metadata": {},
   "outputs": [],
   "source": [
    "teste = list()"
   ]
  },
  {
   "cell_type": "code",
   "execution_count": 33,
   "id": "3675540c",
   "metadata": {},
   "outputs": [],
   "source": [
    "teste.append(1)"
   ]
  },
  {
   "cell_type": "code",
   "execution_count": 34,
   "id": "ae08738b",
   "metadata": {},
   "outputs": [],
   "source": [
    "teste.append(0)"
   ]
  },
  {
   "cell_type": "code",
   "execution_count": 36,
   "id": "b9a7dcb4",
   "metadata": {},
   "outputs": [
    {
     "data": {
      "text/plain": [
       "0"
      ]
     },
     "execution_count": 36,
     "metadata": {},
     "output_type": "execute_result"
    }
   ],
   "source": []
  },
  {
   "cell_type": "code",
   "execution_count": null,
   "id": "a4fcded7",
   "metadata": {},
   "outputs": [],
   "source": []
  }
 ],
 "metadata": {
  "kernelspec": {
   "display_name": "Python 3",
   "language": "python",
   "name": "python3"
  },
  "language_info": {
   "codemirror_mode": {
    "name": "ipython",
    "version": 3
   },
   "file_extension": ".py",
   "mimetype": "text/x-python",
   "name": "python",
   "nbconvert_exporter": "python",
   "pygments_lexer": "ipython3",
   "version": "3.9.5"
  }
 },
 "nbformat": 4,
 "nbformat_minor": 5
}
