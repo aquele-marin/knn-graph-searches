{
 "cells": [
  {
   "cell_type": "code",
   "execution_count": 42,
   "id": "8b68ef24",
   "metadata": {},
   "outputs": [],
   "source": [
    "import math\n",
    "class KnnClustered:\n",
    "    def __init__(self, graph, k):\n",
    "        self.graph = graph\n",
    "        self.k = k\n",
    "        self.area = 1\n",
    "        self.rounds = 0\n",
    "        if(k >= graph.totalNodes):\n",
    "            self.k = graph.totalNodes-1\n",
    "        \n",
    "    def __increaseArea(self):\n",
    "            self.rounds += 1\n",
    "            self.area = pow(2,self.rounds)\n",
    "            \n",
    "    def __resetArea(self):\n",
    "        self.area = 1\n",
    "    \n",
    "    def __searchSpace(self,x, y):\n",
    "        knn = set()\n",
    "        #Define os limites superiores e inferiores da busca\n",
    "        minX = 0\n",
    "        maxX = self.graph.totalNodes\n",
    "        minY = 0\n",
    "        maxY = self.graph.totalNodes\n",
    "        if (x - self.area) > 0:\n",
    "            minX = x - self.area\n",
    "        if (x + self.area) < maxX:\n",
    "            maxX = x + self.area\n",
    "        if (y - self.area) > 0:\n",
    "            minY = y - self.area\n",
    "        if (y + self.area) < maxY:\n",
    "            maxY = y + self.area\n",
    "        # Adiciona todos os nós da região na lista \"neighbors\"\n",
    "        origin = \",\".join((str(x),str(y)))\n",
    "        for a in range(minX, maxX+1):\n",
    "            for b in range(minY, maxY+1):\n",
    "                nodeKey = \",\".join((str(a),str(b)))\n",
    "                knn.add(nodeKey)\n",
    "        try:\n",
    "            knn.remove(origin)\n",
    "        except KeyError:\n",
    "            pass\n",
    "        return set(knn)\n",
    "    \n",
    "    def __minimumViableSet(self, x, y):\n",
    "        self.__resetArea()\n",
    "        nodes = set(grafo.nodes.keys()).intersection(self.__searchSpace(x, y))\n",
    "        while len(nodes) < self.k:\n",
    "            self.__increaseArea()\n",
    "            nodes = set(grafo.nodes.keys()).intersection(self.__searchSpace(x, y))\n",
    "        return list(nodes)\n",
    "    \n",
    "    def __euclidianDistance(self,x1,y1, x2, y2):\n",
    "        x = abs(x2 - x1)\n",
    "        y = abs(y2 - y1)\n",
    "        return math.sqrt(pow(x,2) + pow(y,2))\n",
    "    \n",
    "    def kNearestNeighbors(self, x, y):\n",
    "        viableListWithDistance = dict()\n",
    "        viableList = knn.__minimumViableSet(x, y)\n",
    "        while len(viableList) > 0:\n",
    "            nodeKey = viableList.pop()\n",
    "            node = self.graph.nodes[nodeKey]\n",
    "            distance = self.__euclidianDistance(x,y,node.x,node.y)\n",
    "            viableListWithDistance[nodeKey] = distance\n",
    "        return sorted(viableListWithDistance, key=viableListWithDistance.get)[:3]\n",
    "    "
   ]
  },
  {
   "cell_type": "code",
   "execution_count": 34,
   "id": "46452e2e",
   "metadata": {},
   "outputs": [],
   "source": [
    "import random\n",
    "from src.classes.graph import Graph\n",
    "from src.classes.node import Node"
   ]
  },
  {
   "cell_type": "code",
   "execution_count": 35,
   "id": "0bfc69c3",
   "metadata": {},
   "outputs": [],
   "source": [
    "def populateGraph(graph,n, seed):\n",
    "    random.seed(seed)\n",
    "    xValues = random.sample(range(0, n+1), n)\n",
    "    yValues = random.sample(range(0, n+1), n)\n",
    "    for i in range(len(xValues)):\n",
    "        nodeKey = \",\".join((str(xValues[i]),str(yValues[i])))\n",
    "        node = Node(nodeKey, xValues[i], yValues[i])\n",
    "        graph.addVertex(node)"
   ]
  },
  {
   "cell_type": "code",
   "execution_count": 36,
   "id": "4b87c351",
   "metadata": {},
   "outputs": [],
   "source": [
    "grafo = Graph(nodeType=Node)\n",
    "populateGraph(grafo, 10, 200)"
   ]
  },
  {
   "cell_type": "code",
   "execution_count": 37,
   "id": "8904d58b",
   "metadata": {},
   "outputs": [],
   "source": [
    "knn = KnnClustered(grafo, 3)"
   ]
  },
  {
   "cell_type": "code",
   "execution_count": 38,
   "id": "49fd5576",
   "metadata": {},
   "outputs": [],
   "source": [
    "viable = knn.kNearestNeighbors(2,9)"
   ]
  },
  {
   "cell_type": "code",
   "execution_count": 39,
   "id": "bd2bc280",
   "metadata": {},
   "outputs": [
    {
     "data": {
      "text/plain": [
       "['3,7', '5,8', '4,3']"
      ]
     },
     "execution_count": 39,
     "metadata": {},
     "output_type": "execute_result"
    }
   ],
   "source": [
    "viable"
   ]
  },
  {
   "cell_type": "code",
   "execution_count": 16,
   "id": "8e6b5594",
   "metadata": {},
   "outputs": [],
   "source": [
    "def euclidianDistance(x1,y1, x2, y2):\n",
    "    x = abs(x2 - x1)\n",
    "    y = abs(y2 - y1)\n",
    "    return math.sqrt(pow(x,2) + pow(y,2))"
   ]
  },
  {
   "cell_type": "code",
   "execution_count": 41,
   "id": "a6a12427",
   "metadata": {},
   "outputs": [
    {
     "data": {
      "text/plain": [
       "6.324555320336759"
      ]
     },
     "execution_count": 41,
     "metadata": {},
     "output_type": "execute_result"
    }
   ],
   "source": [
    "euclidianDistance(4,3,2,9)"
   ]
  },
  {
   "cell_type": "code",
   "execution_count": null,
   "id": "b34ec3f7",
   "metadata": {},
   "outputs": [],
   "source": []
  }
 ],
 "metadata": {
  "kernelspec": {
   "display_name": "Python 3",
   "language": "python",
   "name": "python3"
  },
  "language_info": {
   "codemirror_mode": {
    "name": "ipython",
    "version": 3
   },
   "file_extension": ".py",
   "mimetype": "text/x-python",
   "name": "python",
   "nbconvert_exporter": "python",
   "pygments_lexer": "ipython3",
   "version": "3.8.5"
  }
 },
 "nbformat": 4,
 "nbformat_minor": 5
}
