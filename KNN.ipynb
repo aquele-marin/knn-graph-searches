{
 "cells": [
  {
   "cell_type": "markdown",
   "id": "ef8296e5",
   "metadata": {},
   "source": [
    "# Implementação do KNN"
   ]
  },
  {
   "cell_type": "code",
   "execution_count": 1,
   "id": "8b68ef24",
   "metadata": {},
   "outputs": [],
   "source": [
    "import math\n",
    "import time\n",
    "from matplotlib import pyplot as plt\n",
    "class KnnClustered:\n",
    "    def __init__(self, graph, k):\n",
    "        self.graph = graph\n",
    "        self.k = k\n",
    "        self.area = 1\n",
    "        self.rounds = 5\n",
    "        if(k >= graph.totalNodes):\n",
    "            self.k = graph.totalNodes-1\n",
    "        \n",
    "    def __increaseArea(self):\n",
    "            self.rounds += 1\n",
    "            self.area = pow(2,self.rounds)\n",
    "            \n",
    "    def __resetArea(self):\n",
    "        self.area = 1\n",
    "    \n",
    "    def __searchSpace(self,x, y):\n",
    "        knn = set()\n",
    "        #Define os limites superiores e inferiores da busca\n",
    "        minX = 0\n",
    "        maxX = self.graph.totalNodes\n",
    "        minY = 0\n",
    "        maxY = self.graph.totalNodes\n",
    "        if (x - self.area) > 0:\n",
    "            minX = x - self.area\n",
    "        if (x + self.area) < maxX:\n",
    "            maxX = x + self.area\n",
    "        if (y - self.area) > 0:\n",
    "            minY = y - self.area\n",
    "        if (y + self.area) < maxY:\n",
    "            maxY = y + self.area\n",
    "        # Adiciona todos os nós da região na lista \"neighbors\"\n",
    "        origin = \",\".join((str(x),str(y)))\n",
    "        for a in range(minX, maxX+1):\n",
    "            for b in range(minY, maxY+1):\n",
    "                nodeKey = \",\".join((str(a),str(b)))\n",
    "                knn.add(nodeKey)\n",
    "        try:\n",
    "            knn.remove(origin)\n",
    "        except KeyError:\n",
    "            pass\n",
    "        return set(knn)\n",
    "    \n",
    "    def __minimumViableSet(self, x, y):\n",
    "        self.__resetArea()\n",
    "        nodes = set(grafo.nodes.keys()).intersection(self.__searchSpace(x, y))\n",
    "        while len(nodes) < self.k:\n",
    "            self.__increaseArea()\n",
    "            nodes = set(grafo.nodes.keys()).intersection(self.__searchSpace(x, y))\n",
    "        return list(nodes)\n",
    "    \n",
    "    def __euclidianDistance(self,x1,y1, x2, y2):\n",
    "        x = abs(x2 - x1)\n",
    "        y = abs(y2 - y1)\n",
    "        return math.sqrt(pow(x,2) + pow(y,2))\n",
    "    \n",
    "    def __kNearestNeighbors(self, x, y):\n",
    "        viableListWithDistance = dict()\n",
    "        viableList = knn.__minimumViableSet(x, y)\n",
    "        while len(viableList) > 0:\n",
    "            nodeKey = viableList.pop()\n",
    "            node = self.graph.nodes[nodeKey]\n",
    "            distance = self.__euclidianDistance(x,y,node.x,node.y)\n",
    "            viableListWithDistance[nodeKey] = distance\n",
    "        return sorted(viableListWithDistance, key=viableListWithDistance.get)[:3]\n",
    "    \n",
    "    def Execute(self):\n",
    "        tic = time.perf_counter()\n",
    "        epoch = 0\n",
    "        for key in self.graph.nodes:\n",
    "            epoch += 1\n",
    "            #print(epoch)\n",
    "            source = self.graph.nodes[key]\n",
    "            knn = self.__kNearestNeighbors(source.x, source.y)\n",
    "            for n in knn:\n",
    "                destination = self.graph.nodes[n]\n",
    "                self.graph.addEdge(source, destination)\n",
    "        toc = time.perf_counter()\n",
    "        #print(f\"Executed in {toc - tic:0.4f} seconds\")\n",
    "        timeval = toc - tic\n",
    "        return timeval\n",
    "    "
   ]
  },
  {
   "cell_type": "markdown",
   "id": "caa928fc",
   "metadata": {},
   "source": [
    "# População do grafo e teste do algoritmo"
   ]
  },
  {
   "cell_type": "code",
   "execution_count": 2,
   "id": "46452e2e",
   "metadata": {},
   "outputs": [],
   "source": [
    "import random\n",
    "from src.classes.graph import Graph\n",
    "from src.classes.node import Node"
   ]
  },
  {
   "cell_type": "code",
   "execution_count": 3,
   "id": "0bfc69c3",
   "metadata": {},
   "outputs": [],
   "source": [
    "def populateGraph(graph,n, seed):\n",
    "    random.seed(seed)\n",
    "    xValues = random.sample(range(0, n+1), n)\n",
    "    yValues = random.sample(range(0, n+1), n)\n",
    "    for i in range(len(xValues)):\n",
    "        nodeKey = \",\".join((str(xValues[i]),str(yValues[i])))\n",
    "        node = Node(nodeKey, xValues[i], yValues[i])\n",
    "        graph.addVertex(node)"
   ]
  },
  {
   "cell_type": "code",
   "execution_count": 41,
   "id": "4b87c351",
   "metadata": {},
   "outputs": [],
   "source": [
    "grafo = Graph(nodeType=Node)\n",
    "populateGraph(grafo, 10, 200)"
   ]
  },
  {
   "cell_type": "code",
   "execution_count": 36,
   "id": "8904d58b",
   "metadata": {},
   "outputs": [],
   "source": [
    "knn = KnnClustered(grafo, 3)"
   ]
  },
  {
   "cell_type": "code",
   "execution_count": 37,
   "id": "49fd5576",
   "metadata": {},
   "outputs": [],
   "source": [
    "tempo = knn.Execute()"
   ]
  },
  {
   "cell_type": "code",
   "execution_count": 8,
   "id": "d6d6cb51",
   "metadata": {},
   "outputs": [],
   "source": [
    "executionTime = []\n",
    "for a in range(100):\n",
    "    grafo = Graph(nodeType=Node)\n",
    "    populateGraph(grafo, a+1, 200)\n",
    "    knn = KnnClustered(grafo, 3)\n",
    "    timeval = knn.Execute()\n",
    "    executionTime.append(timeval)"
   ]
  },
  {
   "cell_type": "code",
   "execution_count": 9,
   "id": "6ed43d38",
   "metadata": {},
   "outputs": [
    {
     "data": {
      "text/plain": [
       "[<matplotlib.lines.Line2D at 0x7f272a94ceb0>]"
      ]
     },
     "execution_count": 9,
     "metadata": {},
     "output_type": "execute_result"
    },
    {
     "data": {
      "image/png": "[encoded data removed]",
      "text/plain": [
       "<Figure size 432x288 with 1 Axes>"
      ]
     },
     "metadata": {
      "needs_background": "light"
     },
     "output_type": "display_data"
    }
   ],
   "source": [
    "plt.plot(executionTime)"
   ]
  },
  {
   "cell_type": "markdown",
   "id": "0e350122",
   "metadata": {},
   "source": [
    "# Alternativa mais viavel do que a anterior"
   ]
  },
  {
   "cell_type": "code",
   "execution_count": 19,
   "id": "49a4eec9",
   "metadata": {},
   "outputs": [],
   "source": [
    "from sklearn.neighbors import kneighbors_graph"
   ]
  },
  {
   "cell_type": "code",
   "execution_count": 55,
   "id": "f2d9c118",
   "metadata": {},
   "outputs": [
    {
     "data": {
      "text/plain": [
       "array([[0., 0., 0., 0., 1., 1., 0., 0., 0., 1.],\n",
       "       [0., 0., 0., 1., 1., 0., 0., 0., 1., 0.],\n",
       "       [0., 0., 0., 0., 0., 1., 1., 0., 0., 1.],\n",
       "       [0., 1., 0., 0., 1., 0., 0., 0., 1., 0.],\n",
       "       [0., 1., 0., 0., 0., 1., 0., 0., 0., 1.],\n",
       "       [0., 0., 0., 0., 1., 0., 1., 0., 0., 1.],\n",
       "       [0., 0., 1., 0., 0., 1., 0., 0., 0., 1.],\n",
       "       [0., 0., 1., 0., 0., 0., 1., 0., 1., 0.],\n",
       "       [0., 1., 0., 1., 0., 0., 1., 0., 0., 0.],\n",
       "       [0., 0., 0., 0., 1., 1., 1., 0., 0., 0.]])"
      ]
     },
     "execution_count": 55,
     "metadata": {},
     "output_type": "execute_result"
    }
   ],
   "source": [
    "import numpy as np\n",
    "n = 10\n",
    "nodes = list()\n",
    "random.seed(200)\n",
    "xValues = random.sample(range(0, n+1), n)\n",
    "yValues = random.sample(range(0, n+1), n)\n",
    "for i in range(len(xValues)):\n",
    "    nodes.append([xValues[i], yValues[i]])\n",
    "X = np.array(nodes)\n",
    "A = kneighbors_graph(X, 3, mode='connectivity')\n",
    "A.toarray()"
   ]
  },
  {
   "cell_type": "code",
   "execution_count": 6,
   "id": "ad8250e5",
   "metadata": {
    "scrolled": true
   },
   "outputs": [
    {
     "ename": "NameError",
     "evalue": "name 'nodes' is not defined",
     "output_type": "error",
     "traceback": [
      "\u001b[0;31m---------------------------------------------------------------------------\u001b[0m",
      "\u001b[0;31mNameError\u001b[0m                                 Traceback (most recent call last)",
      "\u001b[0;32m<ipython-input-6-c48ea7a4c803>\u001b[0m in \u001b[0;36m<module>\u001b[0;34m\u001b[0m\n\u001b[0;32m----> 1\u001b[0;31m \u001b[0mnodes\u001b[0m\u001b[0;34m\u001b[0m\u001b[0;34m\u001b[0m\u001b[0m\n\u001b[0m",
      "\u001b[0;31mNameError\u001b[0m: name 'nodes' is not defined"
     ]
    }
   ],
   "source": [
    "nodes"
   ]
  },
  {
   "cell_type": "code",
   "execution_count": 7,
   "id": "4b4a2fcc",
   "metadata": {},
   "outputs": [
    {
     "name": "stdout",
     "output_type": "stream",
     "text": [
      "0,0\n",
      "0,0 -> 4,3\n",
      "0,0 -> 6,2\n",
      "0,0 -> 7,1\n",
      "3,7\n",
      "3,7 -> 5,8\n",
      "3,7 -> 2,9\n",
      "3,7 -> 4,3\n",
      "10,4\n",
      "10,4 -> 8,5\n",
      "10,4 -> 7,1\n",
      "10,4 -> 6,2\n",
      "10,4 -> 9,10\n",
      "2,9\n",
      "2,9 -> 3,7\n",
      "2,9 -> 5,8\n",
      "2,9 -> 4,3\n",
      "4,3\n",
      "4,3 -> 0,0\n",
      "4,3 -> 3,7\n",
      "4,3 -> 2,9\n",
      "4,3 -> 6,2\n",
      "4,3 -> 7,1\n",
      "7,1\n",
      "7,1 -> 0,0\n",
      "7,1 -> 10,4\n",
      "7,1 -> 4,3\n",
      "7,1 -> 6,2\n",
      "7,1 -> 8,5\n",
      "8,5\n",
      "8,5 -> 10,4\n",
      "8,5 -> 7,1\n",
      "8,5 -> 6,2\n",
      "8,5 -> 9,10\n",
      "8,5 -> 5,8\n",
      "9,10\n",
      "9,10 -> 5,8\n",
      "9,10 -> 8,5\n",
      "9,10 -> 10,4\n",
      "5,8\n",
      "5,8 -> 3,7\n",
      "5,8 -> 2,9\n",
      "5,8 -> 9,10\n",
      "5,8 -> 8,5\n",
      "6,2\n",
      "6,2 -> 0,0\n",
      "6,2 -> 10,4\n",
      "6,2 -> 4,3\n",
      "6,2 -> 7,1\n",
      "6,2 -> 8,5\n"
     ]
    }
   ],
   "source": [
    "grafo.printGraph()"
   ]
  },
  {
   "cell_type": "code",
   "execution_count": 8,
   "id": "97ba7af1",
   "metadata": {},
   "outputs": [
    {
     "ename": "NameError",
     "evalue": "name 'xValues' is not defined",
     "output_type": "error",
     "traceback": [
      "\u001b[0;31m---------------------------------------------------------------------------\u001b[0m",
      "\u001b[0;31mNameError\u001b[0m                                 Traceback (most recent call last)",
      "\u001b[0;32m<ipython-input-8-148da74cbf23>\u001b[0m in \u001b[0;36m<module>\u001b[0;34m\u001b[0m\n\u001b[0;32m----> 1\u001b[0;31m \u001b[0mplt\u001b[0m\u001b[0;34m.\u001b[0m\u001b[0mscatter\u001b[0m\u001b[0;34m(\u001b[0m\u001b[0mxValues\u001b[0m\u001b[0;34m,\u001b[0m \u001b[0myValues\u001b[0m\u001b[0;34m)\u001b[0m\u001b[0;34m\u001b[0m\u001b[0;34m\u001b[0m\u001b[0m\n\u001b[0m",
      "\u001b[0;31mNameError\u001b[0m: name 'xValues' is not defined"
     ]
    }
   ],
   "source": [
    "plt.scatter(xValues, yValues)"
   ]
  },
  {
   "cell_type": "markdown",
   "id": "4dc99d0f",
   "metadata": {},
   "source": [
    "# Implementação do A*"
   ]
  },
  {
   "cell_type": "code",
   "execution_count": 9,
   "id": "e8666613",
   "metadata": {},
   "outputs": [],
   "source": [
    "import heapq\n",
    "class Heap:\n",
    "    def __init__(self):\n",
    "        self.priorityQueue = list()\n",
    "        \n",
    "    def push(self, elem):\n",
    "        heapq.heappush(self.priorityQueue, elem)\n",
    "        \n",
    "    def pop(self):\n",
    "        return heapq.heappop(self.priorityQueue)\n",
    "    \n",
    "    def empty(self):\n",
    "        return True if len(self.priorityQueue) == 0 else False"
   ]
  },
  {
   "cell_type": "code",
   "execution_count": 38,
   "id": "a4df9266",
   "metadata": {},
   "outputs": [],
   "source": [
    "class AStarSearch:\n",
    "    def __init__(self, graph):\n",
    "        self.graph = graph\n",
    "        self.open = Heap()\n",
    "        self.localCost = dict()\n",
    "        self.path = dict()\n",
    "        \n",
    "    def __euclidean(self, dest, origin):\n",
    "        x = abs(dest.x - origin.x)\n",
    "        y = abs(dest.y - origin.y)\n",
    "        return math.sqrt(pow(x,2) + pow(y,2))\n",
    "    \n",
    "    def execute(self, originKey, destKey):\n",
    "        node = self.graph.nodes[originKey]\n",
    "        dest = self.graph.nodes[destKey]\n",
    "        path = self.__searchPath(node, dest)\n",
    "        return path\n",
    "    \n",
    "    # A* algorithm\n",
    "    def __searchPath(self, origin, dest):\n",
    "        self.open.push((0, origin))\n",
    "        self.localCost[origin.key] = 0\n",
    "        self.path[origin.key] = None\n",
    "        while not self.open.empty():\n",
    "            current = self.open.pop()\n",
    "            distance = current[0]\n",
    "            node = current[1]\n",
    "            if node.key == dest.key:\n",
    "                break\n",
    "            for childKey in self.graph.edges[node.key]:\n",
    "                cost = self.localCost[node.key] + self.__euclidean(node, dest)\n",
    "                if childKey not in self.localCost or cost < self.localCost[childKey]:\n",
    "                    self.localCost[childKey] = cost\n",
    "                    childNode = self.graph.nodes[childKey]\n",
    "                    totalCost = cost + self.__euclidean(dest, childNode)\n",
    "                    self.open.push((totalCost, childNode))\n",
    "                    self.path[childKey] = node.key\n",
    "            if self.open.empty() and node.key != dest.key:\n",
    "                return list()\n",
    "        last = dest.key\n",
    "        reconstructedPath = list()\n",
    "        reconstructedPath.append(last)\n",
    "        while last != origin.key:\n",
    "                last = self.path[last]\n",
    "                reconstructedPath.append(last)\n",
    "        return reconstructedPath"
   ]
  },
  {
   "cell_type": "code",
   "execution_count": 7,
   "id": "e96af82a",
   "metadata": {},
   "outputs": [],
   "source": [
    "from src.classes.aStar import AStarSearch"
   ]
  },
  {
   "cell_type": "code",
   "execution_count": 8,
   "id": "a2e71986",
   "metadata": {},
   "outputs": [],
   "source": [
    "aStar = AStarSearch(grafo)\n",
    "path = aStar.execute(\"0,0\", \"5,8\")"
   ]
  },
  {
   "cell_type": "code",
   "execution_count": 9,
   "id": "3b5ecc7e",
   "metadata": {},
   "outputs": [
    {
     "data": {
      "text/plain": [
       "['5,8', '3,7', '4,3', '0,0']"
      ]
     },
     "execution_count": 9,
     "metadata": {},
     "output_type": "execute_result"
    }
   ],
   "source": [
    "path"
   ]
  },
  {
   "cell_type": "code",
   "execution_count": 23,
   "id": "2ac80ee4",
   "metadata": {},
   "outputs": [],
   "source": [
    "import networkx as nx"
   ]
  },
  {
   "cell_type": "code",
   "execution_count": 56,
   "id": "fd8f8853",
   "metadata": {},
   "outputs": [],
   "source": [
    "G = nx.Graph(A)"
   ]
  },
  {
   "cell_type": "code",
   "execution_count": 57,
   "id": "fb848613",
   "metadata": {},
   "outputs": [
    {
     "data": {
      "image/png": "[encoded data removed]",
      "text/plain": [
       "<Figure size 432x288 with 1 Axes>"
      ]
     },
     "metadata": {},
     "output_type": "display_data"
    }
   ],
   "source": [
    "nx.draw(G)"
   ]
  },
  {
   "cell_type": "code",
   "execution_count": null,
   "id": "72a1194c",
   "metadata": {},
   "outputs": [],
   "source": []
  }
 ],
 "metadata": {
  "kernelspec": {
   "display_name": "Python 3",
   "language": "python",
   "name": "python3"
  },
  "language_info": {
   "codemirror_mode": {
    "name": "ipython",
    "version": 3
   },
   "file_extension": ".py",
   "mimetype": "text/x-python",
   "name": "python",
   "nbconvert_exporter": "python",
   "pygments_lexer": "ipython3",
   "version": "3.8.5"
  }
 },
 "nbformat": 4,
 "nbformat_minor": 5
}
